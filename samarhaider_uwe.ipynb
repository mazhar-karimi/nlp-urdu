{
 "cells": [
  {
   "cell_type": "code",
   "execution_count": 2,
   "metadata": {},
   "outputs": [
    {
     "name": "stderr",
     "output_type": "stream",
     "text": [
      "C:\\Users\\admin\\Anaconda3\\envs\\islamic qa\\lib\\site-packages\\gensim\\utils.py:1197: UserWarning: detected Windows; aliasing chunkize to chunkize_serial\n",
      "  warnings.warn(\"detected Windows; aliasing chunkize to chunkize_serial\")\n"
     ]
    }
   ],
   "source": [
    "\n",
    "from gensim.models import word2vec\n",
    "import gensim\n",
    "model = gensim.models.KeyedVectors.load_word2vec_format('urduvec_140M_100K_300d.bin', binary=True)"
   ]
  },
  {
   "cell_type": "code",
   "execution_count": 10,
   "metadata": {},
   "outputs": [
    {
     "name": "stdout",
     "output_type": "stream",
     "text": [
      "ۃالوضو\n",
      "ۃالمسجد\n",
      "پرھیں\n",
      "پڑہیں\n",
      "فجرکی\n",
      "لکھائیں\n",
      "دورکعت\n",
      "پڑھوائی\n",
      "پڑھائیے\n",
      "مسبوقانہ\n",
      "عشاءکی\n",
      "نفلیں\n",
      "سہوکر\n",
      "قضائیں\n",
      "سنتیں\n",
      "پڑھو\n",
      "باجماعت\n",
      "پرھنا\n",
      "پڑھائیں\n",
      "پڑھوائیں\n"
     ]
    }
   ],
   "source": [
    "question = 'نماز کیسے پڑھیں'\n",
    "question_arr = question.split()\n",
    "alltop = model.most_similar(positive=question_arr, topn=20)\n",
    "\n",
    "for key, val in [item for item in alltop if item[1] > 0.51]:\n",
    "    print(key)\n"
   ]
  },
  {
   "cell_type": "code",
   "execution_count": 9,
   "metadata": {},
   "outputs": [
    {
     "name": "stdout",
     "output_type": "stream",
     "text": [
      "[['باجماعت', 'عشاء', 'نمازیں', 'تراویح', 'ظہر', 'تہجد', 'فجرکی', 'پنجگانہ', 'نفل', 'فجر', 'نمازوں', 'اورنماز', 'رکعت', 'عشا', 'نوافل', 'دورکعت', 'سنتیں', 'اوابین', 'نمازکے', 'چاشت'], ['کیونکر', 'کسیے', 'کسطرح', 'کہاں', 'کب', 'کیوں', 'کیسی'], ['پڑہیں', 'پڑھو', 'لکھیں', 'پڑھیئے', 'پڑھئے', 'پڑھتے', 'پڑھ', 'پڑھائیں', 'پڑھنا', 'پڑھوں', 'پڑھا', 'پڑھنے', 'چھاپیں', 'پڑھی', 'پڑھیے', 'سنیں', 'پرھیں', 'پڑہیے', 'لکھائیں', 'پڑھے']]\n",
      "And ( urdutext like '%باجماعت%'  Or  urdutext like '%عشاء%'  Or  urdutext like '%نمازیں%'  Or  urdutext like '%تراویح%'  Or  urdutext like '%ظہر%'  Or  urdutext like '%تہجد%'  Or  urdutext like '%فجرکی%'  Or  urdutext like '%پنجگانہ%'  Or  urdutext like '%نفل%'  Or  urdutext like '%فجر%'  Or  urdutext like '%نمازوں%'  Or  urdutext like '%اورنماز%'  Or  urdutext like '%رکعت%'  Or  urdutext like '%عشا%'  Or  urdutext like '%نوافل%'  Or  urdutext like '%دورکعت%'  Or  urdutext like '%سنتیں%'  Or  urdutext like '%اوابین%'  Or  urdutext like '%نمازکے%'  Or  urdutext like '%چاشت%' )And ( urdutext like '%کیونکر%'  Or  urdutext like '%کسیے%'  Or  urdutext like '%کسطرح%'  Or  urdutext like '%کہاں%'  Or  urdutext like '%کب%'  Or  urdutext like '%کیوں%'  Or  urdutext like '%کیسی%' )And ( urdutext like '%پڑہیں%'  Or  urdutext like '%پڑھو%'  Or  urdutext like '%لکھیں%'  Or  urdutext like '%پڑھیئے%'  Or  urdutext like '%پڑھئے%'  Or  urdutext like '%پڑھتے%'  Or  urdutext like '%پڑھ%'  Or  urdutext like '%پڑھائیں%'  Or  urdutext like '%پڑھنا%'  Or  urdutext like '%پڑھوں%'  Or  urdutext like '%پڑھا%'  Or  urdutext like '%پڑھنے%'  Or  urdutext like '%چھاپیں%'  Or  urdutext like '%پڑھی%'  Or  urdutext like '%پڑھیے%'  Or  urdutext like '%سنیں%'  Or  urdutext like '%پرھیں%'  Or  urdutext like '%پڑہیے%'  Or  urdutext like '%لکھائیں%'  Or  urdutext like '%پڑھے%' )\n"
     ]
    }
   ],
   "source": [
    "question = 'نماز کیسے پڑھیں'\n",
    "question_arr = question.split()\n",
    "all_word_similar = []\n",
    "query = ''\n",
    "for question_word in question_arr:\n",
    "    alltop = model.most_similar(positive=question_word, topn=20)\n",
    "    one_word_similar = []\n",
    "    query += 'And ('\n",
    "    top_items = [item for item in alltop if item[1] > 0.51]\n",
    "    count = len(top_items)\n",
    "    i = 0\n",
    "    for key, val in top_items:\n",
    "        one_word_similar.append(key)\n",
    "        query += \" urdutext like '%\" + key + \"%' \"\n",
    "        if i != count - 1:\n",
    "            query += ' Or '\n",
    "        i+=1\n",
    "    query += ')'\n",
    "    all_word_similar.append(one_word_similar)\n",
    "\n",
    "print(all_word_similar)\n",
    "#print(query)"
   ]
  },
  {
   "cell_type": "code",
   "execution_count": null,
   "metadata": {},
   "outputs": [],
   "source": []
  }
 ],
 "metadata": {
  "kernelspec": {
   "display_name": "Python 3",
   "language": "python",
   "name": "python3"
  },
  "language_info": {
   "codemirror_mode": {
    "name": "ipython",
    "version": 3
   },
   "file_extension": ".py",
   "mimetype": "text/x-python",
   "name": "python",
   "nbconvert_exporter": "python",
   "pygments_lexer": "ipython3",
   "version": "3.6.8"
  }
 },
 "nbformat": 4,
 "nbformat_minor": 2
}
