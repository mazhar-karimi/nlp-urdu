{
 "cells": [
  {
   "cell_type": "code",
   "execution_count": 5,
   "metadata": {},
   "outputs": [
    {
     "name": "stdout",
     "output_type": "stream",
     "text": [
      "0.9999999999999998\n",
      "0.2605556710562624\n",
      "0.0\n"
     ]
    }
   ],
   "source": [
    "import string\n",
    "from sklearn.feature_extraction.text import TfidfVectorizer\n",
    "\n",
    "vectorizer = TfidfVectorizer()\n",
    "\n",
    "def cosine_sim(text1, text2):\n",
    "    tfidf = vectorizer.fit_transform([text1, text2])\n",
    "    return ((tfidf * tfidf.T).A)[0,1]\n",
    "\n",
    "print(cosine_sim('a little bird', 'a little bird'))\n",
    "print(cosine_sim('a little bird', 'little birds chirps'))\n",
    "print(cosine_sim('a little bird', 'a big dog barks'))"
   ]
  },
  {
   "cell_type": "code",
   "execution_count": 3,
   "metadata": {},
   "outputs": [
    {
     "name": "stdout",
     "output_type": "stream",
     "text": [
      "0.02606579239708579\n",
      "0.04455723680733269\n",
      "0.021108187245432255\n"
     ]
    }
   ],
   "source": [
    "import string\n",
    "from sklearn.feature_extraction.text import TfidfVectorizer\n",
    "\n",
    "vectorizer = TfidfVectorizer()\n",
    "\n",
    "def cosine_sim(text1, text2):\n",
    "    tfidf = vectorizer.fit_transform([text1, text2])\n",
    "    return ((tfidf * tfidf.T).A)[0,1]\n",
    "\n",
    "print(cosine_sim('وضو کیسے کریں', 'ابوالولید، شعبہ، سلیمان شعبہ، ابواسحاق، اسود سے روایت کرتے ہیں اسود نے بیان کیا کہ میں نے حضرت عائشہ (رض) سے پوچھا کہ نبی (صلی اللہ علیہ وآلہ وسلم) کی رات کی نماز کیسی تھی ؟ انہوں نے جواب دیا کہ ابتدائے شب میں سوجاتے اور آخر شب میں کھڑے ہوتے اور نماز پڑھتے، پھر اپنے بستر کی طرف لوٹ جاتے، جب مؤذن اذان کہتا تو اچھل جاتے اور اگر غسل کی حاجت ہوتی تو غسل کرتے ورنہ وضو کرتے اور نماز کیلئے نکلتے'))\n",
    "print(cosine_sim('وضو کیسے کریں', 'عبداللہ بن یوسف، مالک، ابوالزناد، اعرج، ابوہریرہ (رض) سے روایت ہے کہ رسول اللہ (صلی اللہ علیہ وآلہ وسلم) نے فرمایا جب کوئی وضو کرے تو چاہئے کہ وہ اپنی ناک میں پانی ڈالے پھر (اس کو) صاف کرے اور جو کوئی پتھر سے استنجا کرے تو چاہیے کہ طاق پتھروں سے کرے اور جب نیند سے بیدار ہو تو اپنے ہاتھ کو وضو کے پانی میں ڈالنے سے پہلے دھو لے، اس وجہ سے کہ تم میں سے کوئی یہ نہیں جانتا کہ رات کا اس کا ہاتھ کہاں رہا ہے۔'))\n",
    "print(cosine_sim('وضو کیسے کریں', 'ابونعیم، شیبان، یحییٰ بن ابی کثیر، ابوسلمہ، ابوہریرہ (رض) روایت کرتے ہیں کہ حضرت عمر بن خطاب (رض) ایک بار جمعہ کے دن خطبہ پڑھ رہے تھے کہ اس اثناء میں ایک شخص آیا تو حضرت عمر بن خطاب (رض) نے کہا کہ تم نماز سے کیوں رک جاتے ہو ؟ اس شخص نے کہا کہ اذان کی آواز سنتے ہی میں نے وضو کیا اور چلا آیا، حضرت عمر (رض) نے کہا کہ کیا تم نے نبی (صلی اللہ علیہ وآلہ وسلم) کو یہ فرماتے ہوئے نہیں سنا کہ جب تم میں سے کوئی شخص جمعہ کی نماز کیلئے روانہ ہو تو غسل کرے'))"
   ]
  },
  {
   "cell_type": "code",
   "execution_count": null,
   "metadata": {},
   "outputs": [],
   "source": []
  }
 ],
 "metadata": {
  "kernelspec": {
   "display_name": "Python 3",
   "language": "python",
   "name": "python3"
  },
  "language_info": {
   "codemirror_mode": {
    "name": "ipython",
    "version": 3
   },
   "file_extension": ".py",
   "mimetype": "text/x-python",
   "name": "python",
   "nbconvert_exporter": "python",
   "pygments_lexer": "ipython3",
   "version": "3.7.3"
  }
 },
 "nbformat": 4,
 "nbformat_minor": 2
}
