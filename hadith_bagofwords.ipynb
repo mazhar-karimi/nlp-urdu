{
 "cells": [
  {
   "cell_type": "code",
   "execution_count": 1,
   "metadata": {},
   "outputs": [],
   "source": [
    "import re\n",
    "from ufal.udpipe import Model, Pipeline, ProcessingError\n",
    "import pandas as pd \n",
    "from conllu import parse\n",
    "\n",
    "model = Model.load('G:/Softwares/urdu-udtb-ud-2.3-181115.udpipe')\n",
    "pipeline = Pipeline(model, 'tokenize', Pipeline.DEFAULT, Pipeline.DEFAULT, 'conllu')\n",
    "error = ProcessingError()"
   ]
  },
  {
   "cell_type": "code",
   "execution_count": 2,
   "metadata": {},
   "outputs": [],
   "source": [
    "from __future__ import unicode_literals\n",
    "# -*- coding: utf-8 -*-\n",
    "STOP_WORDS = \"\"\"\n",
    " ابھی از \n",
    " اس استعمال اسی اسے البتہ الف ان اندر اور اوپر اکثر اگر\n",
    " اگرچہ اگلے ایسا ایسی ایسے اے بار بارے باوجود باہر بظاہر بعض بغیر بلکہ بن\n",
    " بھر بھریں بھی بہت بے تا تاکہ تب تحت تر تمام\n",
    " تو تک جب سوال \n",
    " جبکہ جو حالانکہ حالاں خلاف\n",
    " خود سے میں چنانچہ دیر ذریعے تھا هے ایک آپ\n",
    " سا ساتھ سامنے سب تھی تھے\n",
    " سکا سکتا سکتے سی سے شان شاید صرف صورت ضرورت ضروری طرح طرف طور علاوہ عین غیر \n",
    " لہذا لیکن لیں لیے لے مجھ مجھے مزید مقابلے مل مکمل مگر \n",
    " نا نہ نہیں نیچے واقعی والا والوں والی والے وجہ وغیرہ وہ وہاں وہی وہیں وی ویسے پاس\n",
    " پایا پر پوری پھر پیچھے چونکہ چکی\n",
    " ڈالے کئے کافی کبھی کسی کم \n",
    " کوئی کچھ کہ کہا کہہ کہیں کہے کیونکہ کیے کے گئی\n",
    " گئے گا گویا گی گے ہاں ہر ہمیشہ ہو ہوئی ہوئیں ہوئے ہوا ہوتا\n",
    " ہوتی ہوتیں ہوتے ہونا ہونگے ہونی ہونے ہوں ہی ہیں ہے یا یات یعنی یقینا یہ یہاں یہی یہیں ھیں\n",
    "  حضرت ہوگی رض\n",
    " کا کو کی نے ہوتو پہلے کر\n",
    " اپنا حتى كہ ميں لئیے  \n",
    " بعد ارادہ افاقہ آخر\n",
    "\"\"\".split()"
   ]
  },
  {
   "cell_type": "code",
   "execution_count": 3,
   "metadata": {},
   "outputs": [
    {
     "name": "stderr",
     "output_type": "stream",
     "text": [
      "C:\\Users\\admin\\Anaconda3\\envs\\islamic qa\\lib\\site-packages\\gensim\\utils.py:1197: UserWarning: detected Windows; aliasing chunkize to chunkize_serial\n",
      "  warnings.warn(\"detected Windows; aliasing chunkize to chunkize_serial\")\n"
     ]
    }
   ],
   "source": [
    "from gensim.models import word2vec\n",
    "import gensim\n",
    "model = gensim.models.KeyedVectors.load_word2vec_format('urduvec_140M_100K_300d.bin', binary=True)"
   ]
  },
  {
   "cell_type": "markdown",
   "metadata": {},
   "source": [
    "## To get row count only"
   ]
  },
  {
   "cell_type": "code",
   "execution_count": 155,
   "metadata": {},
   "outputs": [
    {
     "name": "stdout",
     "output_type": "stream",
     "text": [
      "292\n"
     ]
    }
   ],
   "source": [
    "import pyodbc\n",
    "from gensim.models import Word2Vec\n",
    "import sys\n",
    "import time\n",
    "start = time.time()\n",
    "\n",
    "conn = pyodbc.connect(r'Driver={Microsoft Access Driver (*.mdb, *.accdb)};DBQ=G:\\Softwares\\EQWH-V6.4-190407\\EasyHadees - Copy.mdb;')\n",
    "cursor = conn.cursor()\n",
    "targetcount = 100\n",
    "cursor.execute(\"select count(*) from ahadith where urdutext is not null and urdutext like '%وضو%'\")\n",
    "\n",
    "count = cursor.fetchone()[0]\n",
    "print(count)\n",
    "cursor.close()\n",
    "conn.close()"
   ]
  },
  {
   "cell_type": "code",
   "execution_count": 4,
   "metadata": {},
   "outputs": [],
   "source": [
    "import pyodbc\n",
    "from gensim.models import Word2Vec\n",
    "import sys\n",
    "import time\n",
    "import numpy as np\n",
    "\n",
    "no_of_docs_cache = {}\n",
    "idf_cache = {}\n",
    "term_freq_doc_cache = {}\n",
    "\n",
    "conn = pyodbc.connect(r'Driver={Microsoft Access Driver (*.mdb, *.accdb)};DBQ=G:\\Softwares\\EQWH-V6.4-190407\\EasyHadees - Copy.mdb;')\n",
    "cursor = conn.cursor()\n",
    "cursor.execute(\"select id, urdutext from ahadith where urdutext is not null and urdutext like '%وضو%'\")\n",
    "\n",
    "Y = []\n",
    "corpus = []\n",
    "lens_of_d= []\n",
    "for row in cursor.fetchall():\n",
    "    hadith = row[1].replace('صلی اللہ علیہ وآلہ وسلم','')    \n",
    "    corpus.append(hadith)\n",
    "    lens_of_d.append(len(hadith.split()))\n",
    "    Y.append(row[0])\n",
    "cursor.close()\n",
    "conn.close()\n",
    "\n",
    "avg_docs_len = np.mean(lens_of_d, axis=0)"
   ]
  },
  {
   "cell_type": "code",
   "execution_count": 5,
   "metadata": {},
   "outputs": [],
   "source": [
    "#from sklearn.feature_extraction.text import TfidfVectorizer as vectorizer\n",
    "from sklearn.feature_extraction.text import CountVectorizer\n",
    "\n",
    "vec = CountVectorizer(stop_words=STOP_WORDS).fit(corpus)\n",
    "bag_of_words = vec.transform(corpus)\n",
    "vocab = vec.vocabulary_.items()"
   ]
  },
  {
   "cell_type": "markdown",
   "metadata": {},
   "source": [
    "# Ranking (okapi BM25)\n",
    "\n",
    "![title](img/43e5c609557364f7836b6b2f4cd8ea41deb86a96.svg)\n",
    "\n",
    "where\n",
    "\n",
    "![title](img/c652b6871ce4872c8e924ff0f806bc8b06dc94ed.svg)"
   ]
  },
  {
   "cell_type": "code",
   "execution_count": 6,
   "metadata": {},
   "outputs": [],
   "source": [
    "def term_freq_doc(myword,doc_index):\n",
    "    if myword not in vec.vocabulary_:\n",
    "        return 0\n",
    "    \n",
    "    qindex = vec.vocabulary_[myword]\n",
    "    sm = None\n",
    "    if doc_index in term_freq_doc_cache:\n",
    "        sm = term_freq_doc_cache[doc_index]\n",
    "    else:\n",
    "        #sm = bag_of_words[doc_index].sum(axis=0)\n",
    "        sm = bag_of_words[doc_index].toarray()[0]\n",
    "        term_freq_doc_cache[doc_index] = sm\n",
    "    freq = sm[qindex]\n",
    "    return freq"
   ]
  },
  {
   "cell_type": "code",
   "execution_count": 7,
   "metadata": {},
   "outputs": [],
   "source": [
    "bag_of_words_arr = bag_of_words.toarray()\n",
    "\n",
    "def no_of_docs(q):\n",
    "    if q in no_of_docs_cache:\n",
    "        return no_of_docs_cache[q]\n",
    "    \n",
    "    if q not in vec.vocabulary_:\n",
    "        return 0\n",
    "    \n",
    "    qindex = vec.vocabulary_[q]\n",
    "    \n",
    "    no_of_ds = 0\n",
    "    \n",
    "    for bw in bag_of_words_arr:\n",
    "        if bw[qindex] > 0:\n",
    "            no_of_ds += 1\n",
    "    \n",
    "    no_of_docs_cache[q] = no_of_ds;\n",
    "    return no_of_ds        "
   ]
  },
  {
   "cell_type": "code",
   "execution_count": 8,
   "metadata": {},
   "outputs": [],
   "source": [
    "import math\n",
    "\n",
    "def idf(q):\n",
    "    if q in idf_cache:\n",
    "        return idf_cache[q]\n",
    "    \n",
    "    nq = no_of_docs(q)\n",
    "    ans = math.log10(  (len(Y)- nq + 0.5) / (nq+ 0.5)  )\n",
    "    idf_cache[q] = ans;\n",
    "    return ans\n",
    "\n",
    "def bm25_score(qwords,doc_index):\n",
    "    score = 0;\n",
    "    for qw in qwords:\n",
    "        #start = time.time()\n",
    "        tfd = term_freq_doc(qw, doc_index)\n",
    "        score += idf(qw) * ( (tfd * (1.2 + 1))/ (tfd + 1.2 * (1-0.75 + 0.75 * (lens_of_d[doc_index] / avg_docs_len))) + 1.0)\n",
    "        #end = time.time()\n",
    "        #print(\" time taken: \"+str(end - start)+ \", for word: \" + qw + \", for doc: \" + str(doc_index))\n",
    "    return score"
   ]
  },
  {
   "cell_type": "code",
   "execution_count": 49,
   "metadata": {},
   "outputs": [],
   "source": [
    "l = list(vocab)\n",
    "def vocab_check(w):\n",
    "    for i in range(0,len(l)):\n",
    "        if l[i][0] == w:\n",
    "            return True\n",
    "            break\n",
    "    return False"
   ]
  },
  {
   "cell_type": "code",
   "execution_count": 21,
   "metadata": {},
   "outputs": [],
   "source": [
    "question = 'آپ کس طرح وضو کرتے تھے'\n",
    "question_arr = question.split()\n",
    "\n",
    "query_words = []\n",
    "for qs in question_arr:\n",
    "    query_words.append(qs)\n",
    "    query_words.append(qs)\n",
    "    query_words.append(qs)\n",
    "for question_word in question_arr:\n",
    "    alltop = model.most_similar(positive=question_word, topn=5)\n",
    "    for key, val in [item for item in alltop if item[1] > 0.51 and item[0] in vec.vocabulary_]:\n",
    "        query_words.append(key)"
   ]
  },
  {
   "cell_type": "code",
   "execution_count": 22,
   "metadata": {},
   "outputs": [],
   "source": [
    "doc_scores = []\n",
    "for i in range(0, len(Y)):\n",
    "    start = time.time()\n",
    "    score = bm25_score(query_words, i)\n",
    "    end = time.time()\n",
    "    #print(\" time taken: \"+str(end - start)+ \", for doc: \" + str(i))\n",
    "    doc_scores.append({'docid':i, 'score': score})\n",
    "\n",
    "doc_scores = sorted(doc_scores, key = lambda i: i['score'],reverse=True) "
   ]
  },
  {
   "cell_type": "code",
   "execution_count": 23,
   "metadata": {},
   "outputs": [
    {
     "name": "stdout",
     "output_type": "stream",
     "text": [
      "[{'docid': 6683, 'score': 66.660352136007}, {'docid': 1515, 'score': 65.611704482416}, {'docid': 5217, 'score': 65.53605700179644}, {'docid': 4839, 'score': 64.66447511788445}, {'docid': 814, 'score': 64.46825785145239}, {'docid': 654, 'score': 64.35485613847231}, {'docid': 52, 'score': 64.25538830574476}, {'docid': 810, 'score': 63.842699561133465}, {'docid': 3953, 'score': 63.78099278925216}, {'docid': 6074, 'score': 63.753560825739136}]\n",
      "864 ۔ حضرت علی بن ابوطالب (رض) بیان کرتے : میں نے نبی کریم () سے اس پٹی کے بارے میں دریافت کیا جو کسی زخم وغیرہ پر باندھی جاتی ہے ایساشخص کس طرح وضو کرسکتا ہے ، اگر وہ جنبی ہوجائے تو وہ غسل کس طرح کرے گا ؟ تو نبی کریم () نے فرمایا ایساشخص جنابت کی حالت میں پانی کے ذریعے اس پر مسح کرلے گا، پھر میں نے عرض کی ، اگر سردی ہو یا اپنی جان کا اندیشہ ہو ؟ تو نبی کریم () نے فرمایا وہ اپنے پورے جسم پر مسح کرلے گا، پھر نبی کریم () نے یہ آیت تلاوت کی :\n",
      "'' تم اپنے آپ کو قتل نہ کرو بیشک اللہ تعالیٰ تمہارے بارے میں رحم کرنے والا ہے۔ (تو نبی کریم () نے فرمایا) ایسے شخص کو جب اندیشہ ہو تو وہ تیمم کرلے۔ \n",
      "\n",
      " ابراہیم بن عبداللہ اپنے والد کا یہ بیان نقل کرتے ہیں حضرت مسور بن مخرمہ اور حضرت ابن عباس کے درمیان اس موضوع پر بحث چھڑ گئی کہ حالت احرام والا شخص اپنا سر دھو سکتا ہے ان حضرات نے مجھے حضرت ابوایوب کی خدمت میں بھیجا تاکہ میں دریافت کروں کہ آپ نے نبی اکرم () کو حالت احرام میں کس طرح سر دھوتے ہوئے دیکھا ہے راوی کہتے ہیں میں حضرت ابوایوب کی خدمت میں حاضر ہوا وہ اس وقت دو لکڑیوں کے درمیان پردہ کرکے غسل کر رہے تھے انہوں نے ایک کپڑے کے ذریعے کپڑا تان رکھا تھا میں نے انہیں سلام کیا انہوں نے وہ کپڑا لپیٹ لیا میں نے عرض کی مجھے آپ کے چچا زاد بھائی ابن عباس نے بھیجا ہے یہ دریافت کرنے کے لیے کہ آپ نے نبی اکرم () کو اپنا سر مبارک احرام میں کس طرح دھوتے ہوئے دیکھا ہے تو حضرت ابوایوب نے اپنے دونوں ہاتھوں کو آگے سے پیچھے کی طرف پھیرا اور پھر پیچھے سے آگے کی طرف لے آئے۔ \n",
      "\n",
      "25193 ۔۔۔ پوری طرح عیادت کرنے کا طریقہ یہ ہے کہہ تم مریض (کی پیشانی) پر ہاتھ رکھو اور اس سے یوں حال دریافت کرو تم نے صبح کس حال میں کی ہے اور شام کس حال میں کی ہے۔ (رواہ العقیلی وابن السنی فی عمل الیوم واللیلۃ عن ابی امامۃ) ۔ کلام : ۔۔۔ حدیث ضعیف ہے دیکھئے تذکرۃ الموضوعات 121 التعتیک 17 ۔ \n",
      "\n",
      "14554 حضرت عمر بن خطاب (رض) کے پاس ایک وفد آیا جس میں عاصم بن عمرو بجلی بھی تھے وہ فرماتے ہیں کہ وفدنے آپ (رض) کی خدمت میں عرض کیا : یا امیر المومنین ! ہم آپ کے پاس تین خصلتوں کے بارے میں سوال کرنے آئے ہیں عورت جب حائضہ ہو آدمی کے لئے۔ اس کی قربت کس حد تک حلال ہے ؟ جنابت سے غسل کا کیا طریقہ ہے اور گھروں میں قرآن پڑھنے کا کیا حکم ہے ؟ حضرت عمر (رض) نے ارشاد فرمایا : سبحان اللہ ! کیا تم جادوگر ہو ، تم نے مجھ سے ایسی چیز کے بارے میں سوال کیا جس کے متعلق میں نے بھی رسول اللہ () سے سوال کیا تھا لیکن آج تک اس کے بعداس کے متعلق کسی نے مجھ سے سوال نہیں کیا۔ پھر ارشاد فرمایا :\n",
      "بہرحال عورت جب حائضہ ہو تو مرد کے لیے عورت کی ازار (شلوار) کے اوپر سے اس سے لطف حاصل کرنا حلال ہے۔ جبکہ غسل جنابت کا طریقہ یہ ہے کہ پہلے ہاتھ دھوئے، پھر شرم گاہ ، پھروضو کرے، پھر اپنے سر اور جسم پر پانی بہائے۔ اور قرآن کا پڑھنا (سراسر) نور ہے جو چاہے اپنے گھر کو اس کے ساتھ منور کرلے۔ الدارقطنی فی السنن \n",
      "\n",
      " محمد بن بشار، معاذ بن ہشام، ہشام، قتادہ، ابوقلابہ، خالد بن لجلاج، حضرت ابن عباس (رض) سے روایت ہے کہ نبی اکرم () نے فرمایا کہ میرا رب میرے پاس نہایت اچھی صورت میں آیا اور فرمایا اے محمد ! () میں نے عرض کیا یا رب حاضر ہوں اور تیری فرماں برداری کے لیے مستعد ہوں۔ اللہ تعالیٰ نے فرمایا مقربین فرشتے کس بات میں جھگڑتے ہیں ؟ میں نے عرض کیا کہ اے رب ! مجھے علم نہیں۔ چنانچہ اللہ تعالیٰ نے اپنا ہاتھ میرے شانوں کے درمیان رکھا جس کی ٹھنڈک میں نے اپنے سینے میں محسوس کی اور مشرق ومغرب کے درمیان جو کچھ ہے سب کچھ جان لیا۔ پھر اللہ تعالیٰ نے پوچھا اے محمد ! () میں نے عرض کیا یا رب حاضر ہوں۔ اللہ تعالیٰ نے فرمایا مقرب فرشتے کس چیز کے متعلق جھگڑتے ہیں ؟ میں نے عرض کیا درجات اور کفارات میں، مساجد کی طرف (باجماعت نماز کے لئے) پیدل چلنے میں، تکلیف کے باوجود اچھی طرح وضو کرنے میں۔ جو ان چیزوں کی حفاظت کرے گا وہ بھلائی کے ساتھ زندہ رہے گا اور خیر پر ہی اس کو موت آئے گی اور اپنے گناہوں سے اس طرح پاک رہے گا گویا کہ آج ہی اس کی ماں نے اسے جنا ہے۔ یہ حدیث اس سند سے حسن غریب ہے۔ معاذ بن جبل (رض) بھی نبی اکرم () سے اسی کی مانند طویل حدیث نقل کرتے ہیں۔ اس میں یہ الفاظ بھی ہیں کہ نبی اکرم () نے فرمایا کہ میں سوگیا اور گہری نیند میں ڈوب گیا تو میں اپنے رب کو بہترین صورت میں دیکھا تو اللہ تعالیٰ نے مجھ سے پوچھا فرشتے کس بات میں جھگڑتے ہیں ؟۔ \n",
      "\n"
     ]
    }
   ],
   "source": [
    "print(doc_scores[:10])\n",
    "#print(corpus[doc_scores[0]['docid']])\n",
    "for i in range(0,5):\n",
    "    print(corpus[doc_scores[i]['docid']])\n",
    "    print()"
   ]
  },
  {
   "cell_type": "code",
   "execution_count": 20,
   "metadata": {},
   "outputs": [
    {
     "name": "stdout",
     "output_type": "stream",
     "text": [
      "['آپ', 'آپ', 'آپ', 'کا', 'کا', 'کا', 'وضو', 'وضو', 'وضو', 'کا', 'کا', 'کا', 'طریقہ', 'طریقہ', 'طریقہ', 'کیا', 'کیا', 'کیا', 'تھا', 'تھا', 'تھا', 'غسل', 'جنابت', 'تیمم', 'مسواک', 'استنجاء', 'طریق', 'طریقے', 'کرایا', 'کردیا', 'کروایا']\n"
     ]
    }
   ],
   "source": [
    "print(query_words)"
   ]
  },
  {
   "cell_type": "code",
   "execution_count": 47,
   "metadata": {},
   "outputs": [],
   "source": []
  },
  {
   "cell_type": "code",
   "execution_count": null,
   "metadata": {},
   "outputs": [],
   "source": []
  }
 ],
 "metadata": {
  "kernelspec": {
   "display_name": "Python 3",
   "language": "python",
   "name": "python3"
  },
  "language_info": {
   "codemirror_mode": {
    "name": "ipython",
    "version": 3
   },
   "file_extension": ".py",
   "mimetype": "text/x-python",
   "name": "python",
   "nbconvert_exporter": "python",
   "pygments_lexer": "ipython3",
   "version": "3.6.8"
  }
 },
 "nbformat": 4,
 "nbformat_minor": 2
}
